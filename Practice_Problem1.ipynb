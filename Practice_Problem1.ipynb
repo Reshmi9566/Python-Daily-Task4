{
 "cells": [
  {
   "cell_type": "code",
   "execution_count": 3,
   "id": "cbca59c0",
   "metadata": {},
   "outputs": [
    {
     "name": "stdout",
     "output_type": "stream",
     "text": [
      "Enter the Radius : 3\n",
      "Area of circle is 28.27431\n"
     ]
    }
   ],
   "source": [
    "#QUESTION 1\n",
    "\n",
    "def area(radius):\n",
    "    circle_area=3.14159*radius**2\n",
    "    print(f\"Area of circle is {circle_area}\")\n",
    "radius=float(input(\"Enter the Radius : \"))\n",
    "area(radius)"
   ]
  },
  {
   "cell_type": "code",
   "execution_count": 5,
   "id": "ad5d9f7e",
   "metadata": {},
   "outputs": [
    {
     "name": "stdout",
     "output_type": "stream",
     "text": [
      "Enter the name : Anisha\n",
      "Enter the roll number : 21\n",
      "Enter the mark : 78\n",
      "Name : Anisha\n",
      "Roll No : 21\n",
      "Mark : 78\n"
     ]
    }
   ],
   "source": [
    "#QUESTION 2\n",
    "\n",
    "name=input(\"Enter the name : \")\n",
    "roll_number=int(input(\"Enter the roll number : \"))\n",
    "mark=int(input(\"Enter the mark : \"))\n",
    "print(f'Name : {name}')\n",
    "print(f'Roll No : {roll_number}')\n",
    "print(f'Mark : {mark}')      "
   ]
  },
  {
   "cell_type": "code",
   "execution_count": 13,
   "id": "59e18b05",
   "metadata": {},
   "outputs": [
    {
     "name": "stdout",
     "output_type": "stream",
     "text": [
      "[12, 3, 47, 10]\n",
      "47 is the largest number\n"
     ]
    }
   ],
   "source": [
    "#QUESTION 3\n",
    "\n",
    "def largest_num(list1):\n",
    "    largest=list1[0] \n",
    "    for i in list1:\n",
    "        if i>largest:\n",
    "            largest=i\n",
    "    return largest\n",
    "list1=[12,3,47,10]\n",
    "print(list1)\n",
    "print(f\"{largest_num(list1)} is the largest number\")"
   ]
  },
  {
   "cell_type": "code",
   "execution_count": 14,
   "id": "6d86e334",
   "metadata": {},
   "outputs": [
    {
     "name": "stdout",
     "output_type": "stream",
     "text": [
      "\n",
      "Current Number 1 Previous Number 0 Sum: 1\n",
      "\n",
      "\n",
      "Current Number 2 Previous Number 1 Sum: 3\n",
      "\n",
      "\n",
      "Current Number 3 Previous Number 2 Sum: 5\n",
      "\n",
      "\n",
      "Current Number 4 Previous Number 3 Sum: 7\n",
      "\n",
      "\n",
      "Current Number 5 Previous Number 4 Sum: 9\n",
      "\n",
      "\n",
      "Current Number 6 Previous Number 5 Sum: 11\n",
      "\n",
      "\n",
      "Current Number 7 Previous Number 6 Sum: 13\n",
      "\n",
      "\n",
      "Current Number 8 Previous Number 7 Sum: 15\n",
      "\n",
      "\n",
      "Current Number 9 Previous Number 8 Sum: 17\n",
      "\n",
      "\n",
      "Current Number 10 Previous Number 9 Sum: 19\n",
      "\n"
     ]
    }
   ],
   "source": [
    "#QUESTION 4\n",
    "\n",
    "for i in range(1,11):    \n",
    "    sum1=i+(i-1)\n",
    "    print(f'\\nCurrent Number {i} Previous Number {i-1} Sum: {sum1}\\n')\n",
    "\n"
   ]
  },
  {
   "cell_type": "code",
   "execution_count": 17,
   "id": "22f813fd",
   "metadata": {},
   "outputs": [
    {
     "name": "stdout",
     "output_type": "stream",
     "text": [
      "[10, 20, 33, 46, 55]\n",
      "10,20,55,"
     ]
    }
   ],
   "source": [
    "#QUESTION 5\n",
    "\n",
    "def divisible_5(number):\n",
    "    for i in number:\n",
    "        if i%5==0:\n",
    "            print(i,end=\",\")\n",
    "number=[10,20,33,46,55]\n",
    "print(number)\n",
    "divisible_5(number)"
   ]
  },
  {
   "cell_type": "code",
   "execution_count": 47,
   "id": "5501e338",
   "metadata": {},
   "outputs": [
    {
     "name": "stdout",
     "output_type": "stream",
     "text": [
      "Enter the number : 3\n",
      "3 is a prime number\n"
     ]
    }
   ],
   "source": [
    "#QUESTION 6\n",
    "\n",
    "num=int(input(\"Enter the number : \"))\n",
    "for i in range(2,num):\n",
    "    if num%i==0:\n",
    "        print(f'{num} is not a prime number')\n",
    "        break\n",
    "else:\n",
    "    print(f'{num} is a prime number')"
   ]
  },
  {
   "cell_type": "code",
   "execution_count": 23,
   "id": "5d42f47d",
   "metadata": {},
   "outputs": [
    {
     "name": "stdout",
     "output_type": "stream",
     "text": [
      "input : [10, 40, 30, 70]\n",
      "Reversed : [70, 30, 40, 10]\n"
     ]
    }
   ],
   "source": [
    "#QUESTION 7\n",
    "\n",
    "def reverse_list(list3):\n",
    "    li=[]\n",
    "    for i in range(len(list3)-1,-1,-1):\n",
    "        li.append(list3[i])\n",
    "    print(f'Reversed : {li}')    \n",
    "list3=[10,40,30,70]\n",
    "print(f'input : {list3}')\n",
    "reverse_list(list3)"
   ]
  },
  {
   "cell_type": "code",
   "execution_count": 61,
   "id": "a24da19f",
   "metadata": {},
   "outputs": [
    {
     "name": "stdout",
     "output_type": "stream",
     "text": [
      "*\n",
      "**\n",
      "***\n",
      "****\n"
     ]
    }
   ],
   "source": [
    "#QUESTION 8\n",
    "\n",
    "def pattern(n):\n",
    "    for i in range(n):\n",
    "        for j in range(n):\n",
    "            print(\"\",end=\"\")\n",
    "        for j in range(i+1):\n",
    "            print(\"*\",end=\"\")\n",
    "        print()\n",
    "n=4\n",
    "pattern(n)"
   ]
  },
  {
   "cell_type": "code",
   "execution_count": 26,
   "id": "78060f29",
   "metadata": {},
   "outputs": [
    {
     "name": "stdout",
     "output_type": "stream",
     "text": [
      "Values: 34,12,7\n",
      "Maximum: 34\n"
     ]
    }
   ],
   "source": [
    "#QUESTION 9\n",
    "\n",
    "def maximum(a,b,c):\n",
    "    if a>=b and a>=c:\n",
    "        print(f'Maximum: {a}')\n",
    "    elif b>=a and a>=c:\n",
    "        print(f'Maximum: {b}')\n",
    "    else:\n",
    "        print(f'Maximum: {c}'\n",
    "a,b,c=34,12,7\n",
    "print(f'Values: {a},{b},{c}')\n",
    "maximum(a,b,c)\n",
    "    "
   ]
  },
  {
   "cell_type": "code",
   "execution_count": 60,
   "id": "e26a220d",
   "metadata": {},
   "outputs": [
    {
     "name": "stdout",
     "output_type": "stream",
     "text": [
      "*\n",
      "**\n",
      "***\n",
      "****\n",
      "*****\n",
      "****\n",
      "***\n",
      "**\n",
      "*\n",
      "\n",
      "\n"
     ]
    }
   ],
   "source": [
    "#QUESTION 10\n",
    "\n",
    "def pattern(n):\n",
    "    for i in range(n):\n",
    "        for j in range(n):\n",
    "            print(\"\",end=\"\")\n",
    "        for j in range(i+1):\n",
    "            print(\"*\",end=\"\")\n",
    "        print()\n",
    "    for i in range(n,-1,-1):\n",
    "        for j in range(n,-1,-1):\n",
    "            print(\"\",end=\"\")\n",
    "        for j in range(i-1):\n",
    "            print(\"*\",end=\"\")\n",
    "        print()   \n",
    "n=5\n",
    "pattern(n)"
   ]
  },
  {
   "cell_type": "code",
   "execution_count": null,
   "id": "66f6bba5",
   "metadata": {},
   "outputs": [],
   "source": []
  },
  {
   "cell_type": "code",
   "execution_count": null,
   "id": "ed3a5587",
   "metadata": {},
   "outputs": [],
   "source": []
  }
 ],
 "metadata": {
  "kernelspec": {
   "display_name": "Python 3 (ipykernel)",
   "language": "python",
   "name": "python3"
  },
  "language_info": {
   "codemirror_mode": {
    "name": "ipython",
    "version": 3
   },
   "file_extension": ".py",
   "mimetype": "text/x-python",
   "name": "python",
   "nbconvert_exporter": "python",
   "pygments_lexer": "ipython3",
   "version": "3.9.12"
  }
 },
 "nbformat": 4,
 "nbformat_minor": 5
}
