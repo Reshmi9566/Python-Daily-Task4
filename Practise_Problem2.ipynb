{
 "cells": [
  {
   "cell_type": "code",
   "execution_count": 13,
   "id": "570d8504",
   "metadata": {},
   "outputs": [
    {
     "name": "stdout",
     "output_type": "stream",
     "text": [
      "Enter a string value : assembly\n",
      "a=1, s=2, e=1, m=1, b=1, l=1, y=1, "
     ]
    }
   ],
   "source": [
    "#QUESTION 1\n",
    "\n",
    "string=input(\"Enter a string value : \")\n",
    "count_value={}\n",
    "for i in string:\n",
    "    if i in count_value:\n",
    "        count_value[i]=count_value[i]+1\n",
    "    else:\n",
    "        count_value[i]=1\n",
    "for i, count in count_value.items():\n",
    "    print(f'{i}={count}', end=\", \")"
   ]
  },
  {
   "cell_type": "code",
   "execution_count": 5,
   "id": "255764cc",
   "metadata": {},
   "outputs": [
    {
     "name": "stdout",
     "output_type": "stream",
     "text": [
      "34,12,7\n"
     ]
    },
    {
     "data": {
      "text/plain": [
       "34"
      ]
     },
     "execution_count": 5,
     "metadata": {},
     "output_type": "execute_result"
    }
   ],
   "source": [
    "#QUESTION 2\n",
    "\n",
    "def maximum(a,b,c):\n",
    "    if a>=b and a>=c:\n",
    "        return a\n",
    "    elif b>=a and b>=c:\n",
    "        return b\n",
    "    else:\n",
    "        return c\n",
    "a,b,c=34,12,7\n",
    "print(f\"{a},{b},{c}\")\n",
    "maximum(a,b,c)"
   ]
  },
  {
   "cell_type": "code",
   "execution_count": 66,
   "id": "32bd2a11",
   "metadata": {},
   "outputs": [
    {
     "name": "stdout",
     "output_type": "stream",
     "text": [
      "Enter the base : 2\n",
      "Enter the exponent : 3\n"
     ]
    },
    {
     "data": {
      "text/plain": [
       "8"
      ]
     },
     "execution_count": 66,
     "metadata": {},
     "output_type": "execute_result"
    }
   ],
   "source": [
    "#QUESTION 3\n",
    "\n",
    "def exponent(base,exp):\n",
    "    if exp==0:\n",
    "        return 1\n",
    "    else:\n",
    "        return base**exp\n",
    "base=int(input(\"Enter the base : \"))\n",
    "exp=int(input(\"Enter the exponent : \"))\n",
    "exponent(base,exp)"
   ]
  },
  {
   "cell_type": "code",
   "execution_count": 29,
   "id": "464933ba",
   "metadata": {},
   "outputs": [
    {
     "data": {
      "text/plain": [
       "36"
      ]
     },
     "execution_count": 29,
     "metadata": {},
     "output_type": "execute_result"
    }
   ],
   "source": [
    "#QUESTION 4\n",
    "\n",
    "def cube(integer):\n",
    "    sum1=0\n",
    "    for i in range(integer):\n",
    "        sum1+=i**3\n",
    "    return sum1\n",
    "integer=4\n",
    "cube(integer)"
   ]
  },
  {
   "cell_type": "code",
   "execution_count": 34,
   "id": "3c1a4300",
   "metadata": {},
   "outputs": [
    {
     "name": "stdout",
     "output_type": "stream",
     "text": [
      "1\n",
      "Fizz\n",
      "3\n",
      "Fizz\n",
      "Buzz\n",
      "Fizz\n",
      "7\n",
      "Fizz\n",
      "9\n",
      "FizzBuzz\n"
     ]
    }
   ],
   "source": [
    "#QUESTION 5\n",
    "\n",
    "for i in range(1,11):\n",
    "    if i%2==0 and i%5==0:\n",
    "        print(\"FizzBuzz\")\n",
    "    elif i%2==0:\n",
    "        print(\"Fizz\")\n",
    "    elif i%5==0:\n",
    "        print(\"Buzz\")\n",
    "    else:\n",
    "        print(i)"
   ]
  },
  {
   "cell_type": "code",
   "execution_count": 74,
   "id": "04c965ac",
   "metadata": {},
   "outputs": [
    {
     "name": "stdout",
     "output_type": "stream",
     "text": [
      "2\n"
     ]
    }
   ],
   "source": [
    "#QUESTION 6\n",
    "\n",
    "def frequent_item(list1):\n",
    "    count_li={}\n",
    "    for i in list1:\n",
    "        if i in count_li:\n",
    "            count_li[i]+=1\n",
    "        else:\n",
    "            count_li[i]=1\n",
    "    frequent_num = max(count_li, key=count_li.get)\n",
    "    print(frequent_num)\n",
    "list1=[2,3,4,2,5,2]\n",
    "frequent_item(list1)"
   ]
  },
  {
   "cell_type": "code",
   "execution_count": 78,
   "id": "5a9a911b",
   "metadata": {},
   "outputs": [
    {
     "name": "stdout",
     "output_type": "stream",
     "text": [
      "15\n"
     ]
    }
   ],
   "source": [
    "#QUESTION 7\n",
    "\n",
    "def sum_of_squares(list2):\n",
    "    sum1=0\n",
    "    for i in list2:\n",
    "        sum1+=i**2\n",
    "    print(sum1) \n",
    "list2=[2,1,3,1]\n",
    "sum_of_squares(list2)"
   ]
  },
  {
   "cell_type": "code",
   "execution_count": 51,
   "id": "bd7b12ca",
   "metadata": {},
   "outputs": [
    {
     "name": "stdout",
     "output_type": "stream",
     "text": [
      "1-odd\n",
      "2-even\n",
      "3-odd\n",
      "4-even\n",
      "5-odd\n",
      "6-even\n",
      "7-odd\n",
      "8-even\n",
      "9-odd\n",
      "10-even\n",
      "11-odd\n",
      "12-even\n",
      "13-odd\n",
      "14-even\n",
      "15-odd\n"
     ]
    }
   ],
   "source": [
    "#QUESTION 8\n",
    "\n",
    "for i in range(1,16):\n",
    "    if i%2==0:\n",
    "        print(f'{i}-even')\n",
    "    else:\n",
    "        print(f'{i}-odd') "
   ]
  },
  {
   "cell_type": "code",
   "execution_count": 4,
   "id": "7a1d6292",
   "metadata": {},
   "outputs": [
    {
     "name": "stdout",
     "output_type": "stream",
     "text": [
      "Temperature in Fahrenheit = 41\n",
      "Temperature in Celsius = 5.0\n"
     ]
    }
   ],
   "source": [
    "#QUESTION 9\n",
    "\n",
    "def temp_f_c(temp):\n",
    "    temp_c=5/9*(temp-32)    \n",
    "    print(f\"Temperature in Celsius = {temp_c}\")\n",
    "def temp_c_f(celsius):\n",
    "    fahrenheit = (9/5) * celsius + 32\n",
    "    return fahrenheit\n",
    "temp=int(input(\"Temperature in Fahrenheit = \"))\n",
    "temp_f_c(temp)\n",
    "\n"
   ]
  },
  {
   "cell_type": "code",
   "execution_count": 67,
   "id": "1e16e0a7",
   "metadata": {},
   "outputs": [
    {
     "data": {
      "text/plain": [
       "6"
      ]
     },
     "execution_count": 67,
     "metadata": {},
     "output_type": "execute_result"
    }
   ],
   "source": [
    "#QUESTION 10\n",
    "\n",
    "def factorial(num):\n",
    "    if num<0:\n",
    "        return None\n",
    "    elif num==0:\n",
    "        return 1\n",
    "    else:\n",
    "        return num*factorial(num-1)\n",
    "num=3\n",
    "factorial(num)"
   ]
  },
  {
   "cell_type": "code",
   "execution_count": null,
   "id": "9b558f62",
   "metadata": {},
   "outputs": [],
   "source": []
  }
 ],
 "metadata": {
  "kernelspec": {
   "display_name": "Python 3 (ipykernel)",
   "language": "python",
   "name": "python3"
  },
  "language_info": {
   "codemirror_mode": {
    "name": "ipython",
    "version": 3
   },
   "file_extension": ".py",
   "mimetype": "text/x-python",
   "name": "python",
   "nbconvert_exporter": "python",
   "pygments_lexer": "ipython3",
   "version": "3.9.12"
  }
 },
 "nbformat": 4,
 "nbformat_minor": 5
}
